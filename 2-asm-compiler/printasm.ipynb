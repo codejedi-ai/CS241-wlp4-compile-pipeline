{
 "cells": [
  {
   "cell_type": "code",
   "execution_count": null,
   "id": "a9eaee10",
   "metadata": {
    "vscode": {
     "languageId": "plaintext"
    }
   },
   "outputs": [],
   "source": [
    "# read the output.merl byte by byte\n",
    "\n",
    "with open('output.merl', 'rb') as f:\n",
    "    data = f.read()\n",
    "\n",
    "print(f\"File size: {len(data)} bytes\")\n",
    "print(\"\\nBytes in hex:\")\n",
    "for i, byte in enumerate(data):\n",
    "    if i % 16 == 0:\n",
    "        print(f\"{i:08x}: \", end=\"\")\n",
    "    print(f\"{byte:02x} \", end=\"\")\n",
    "    if (i + 1) % 16 == 0:\n",
    "        print()\n",
    "print(\"\\n\")\n",
    "\n",
    "print(\"Bytes as integers:\")\n",
    "for i, byte in enumerate(data):\n",
    "    if i % 16 == 0:\n",
    "        print(f\"{i:08x}: \", end=\"\")\n",
    "    print(f\"{byte:3d} \", end=\"\")\n",
    "    if (i + 1) % 16 == 0:\n",
    "        print()\n",
    "print(\"\\n\")\n",
    "\n",
    "print(\"First 32 bytes as 32-bit words (little-endian):\")\n",
    "for i in range(0, min(32, len(data)), 4):\n",
    "    if i + 3 < len(data):\n",
    "        word = int.from_bytes(data[i:i+4], byteorder='little')\n",
    "        print(f\"Offset {i:02x}: {word:08x} ({word:10d})\")"
   ]
  }
 ],
 "metadata": {
  "language_info": {
   "name": "python"
  }
 },
 "nbformat": 4,
 "nbformat_minor": 5
}
